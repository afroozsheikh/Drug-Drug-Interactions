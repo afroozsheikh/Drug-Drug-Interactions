{
  "nbformat": 4,
  "nbformat_minor": 0,
  "metadata": {
    "colab": {
      "name": "ML with Graph Project 9729393.ipynb",
      "provenance": [],
      "collapsed_sections": [],
      "toc_visible": true
    },
    "kernelspec": {
      "name": "python3",
      "display_name": "Python 3"
    },
    "language_info": {
      "name": "python"
    },
    "accelerator": "GPU"
  },
  "cells": [
    {
      "cell_type": "markdown",
      "source": [
        "# Import Libraries"
      ],
      "metadata": {
        "id": "h4h1FX5g9saD"
      }
    },
    {
      "cell_type": "code",
      "execution_count": null,
      "metadata": {
        "id": "E3j8sOQjH8fJ",
        "colab": {
          "base_uri": "https://localhost:8080/"
        },
        "outputId": "af693fc1-776e-4b3a-cde9-7e6f7a2decdb"
      },
      "outputs": [
        {
          "output_type": "stream",
          "name": "stdout",
          "text": [
            "Collecting ogb\n",
            "  Downloading ogb-1.3.2-py3-none-any.whl (78 kB)\n",
            "\u001b[?25l\r\u001b[K     |████▏                           | 10 kB 38.0 MB/s eta 0:00:01\r\u001b[K     |████████▍                       | 20 kB 17.7 MB/s eta 0:00:01\r\u001b[K     |████████████▋                   | 30 kB 10.2 MB/s eta 0:00:01\r\u001b[K     |████████████████▊               | 40 kB 8.3 MB/s eta 0:00:01\r\u001b[K     |█████████████████████           | 51 kB 5.1 MB/s eta 0:00:01\r\u001b[K     |█████████████████████████▏      | 61 kB 5.3 MB/s eta 0:00:01\r\u001b[K     |█████████████████████████████▎  | 71 kB 5.7 MB/s eta 0:00:01\r\u001b[K     |████████████████████████████████| 78 kB 3.8 MB/s \n",
            "\u001b[?25hRequirement already satisfied: torch>=1.6.0 in /usr/local/lib/python3.7/dist-packages (from ogb) (1.10.0+cu111)\n",
            "Requirement already satisfied: pandas>=0.24.0 in /usr/local/lib/python3.7/dist-packages (from ogb) (1.1.5)\n",
            "Requirement already satisfied: numpy>=1.16.0 in /usr/local/lib/python3.7/dist-packages (from ogb) (1.19.5)\n",
            "Requirement already satisfied: tqdm>=4.29.0 in /usr/local/lib/python3.7/dist-packages (from ogb) (4.62.3)\n",
            "Collecting outdated>=0.2.0\n",
            "  Downloading outdated-0.2.1-py3-none-any.whl (7.5 kB)\n",
            "Requirement already satisfied: urllib3>=1.24.0 in /usr/local/lib/python3.7/dist-packages (from ogb) (1.24.3)\n",
            "Requirement already satisfied: scikit-learn>=0.20.0 in /usr/local/lib/python3.7/dist-packages (from ogb) (1.0.2)\n",
            "Requirement already satisfied: six>=1.12.0 in /usr/local/lib/python3.7/dist-packages (from ogb) (1.15.0)\n",
            "Requirement already satisfied: requests in /usr/local/lib/python3.7/dist-packages (from outdated>=0.2.0->ogb) (2.23.0)\n",
            "Collecting littleutils\n",
            "  Downloading littleutils-0.2.2.tar.gz (6.6 kB)\n",
            "Requirement already satisfied: python-dateutil>=2.7.3 in /usr/local/lib/python3.7/dist-packages (from pandas>=0.24.0->ogb) (2.8.2)\n",
            "Requirement already satisfied: pytz>=2017.2 in /usr/local/lib/python3.7/dist-packages (from pandas>=0.24.0->ogb) (2018.9)\n",
            "Requirement already satisfied: scipy>=1.1.0 in /usr/local/lib/python3.7/dist-packages (from scikit-learn>=0.20.0->ogb) (1.4.1)\n",
            "Requirement already satisfied: joblib>=0.11 in /usr/local/lib/python3.7/dist-packages (from scikit-learn>=0.20.0->ogb) (1.1.0)\n",
            "Requirement already satisfied: threadpoolctl>=2.0.0 in /usr/local/lib/python3.7/dist-packages (from scikit-learn>=0.20.0->ogb) (3.0.0)\n",
            "Requirement already satisfied: typing-extensions in /usr/local/lib/python3.7/dist-packages (from torch>=1.6.0->ogb) (3.10.0.2)\n",
            "Requirement already satisfied: certifi>=2017.4.17 in /usr/local/lib/python3.7/dist-packages (from requests->outdated>=0.2.0->ogb) (2021.10.8)\n",
            "Requirement already satisfied: chardet<4,>=3.0.2 in /usr/local/lib/python3.7/dist-packages (from requests->outdated>=0.2.0->ogb) (3.0.4)\n",
            "Requirement already satisfied: idna<3,>=2.5 in /usr/local/lib/python3.7/dist-packages (from requests->outdated>=0.2.0->ogb) (2.10)\n",
            "Building wheels for collected packages: littleutils\n",
            "  Building wheel for littleutils (setup.py) ... \u001b[?25l\u001b[?25hdone\n",
            "  Created wheel for littleutils: filename=littleutils-0.2.2-py3-none-any.whl size=7048 sha256=02220b2e5e962df6576bfc178eac8ed1f0ece7d22c722a04adc070937731fe80\n",
            "  Stored in directory: /root/.cache/pip/wheels/d6/64/cd/32819b511a488e4993f2fab909a95330289c3f4e0f6ef4676d\n",
            "Successfully built littleutils\n",
            "Installing collected packages: littleutils, outdated, ogb\n",
            "Successfully installed littleutils-0.2.2 ogb-1.3.2 outdated-0.2.1\n",
            "Collecting DGL\n",
            "  Downloading dgl-0.6.1-cp37-cp37m-manylinux1_x86_64.whl (4.4 MB)\n",
            "\u001b[K     |████████████████████████████████| 4.4 MB 5.0 MB/s \n",
            "\u001b[?25hRequirement already satisfied: requests>=2.19.0 in /usr/local/lib/python3.7/dist-packages (from DGL) (2.23.0)\n",
            "Requirement already satisfied: numpy>=1.14.0 in /usr/local/lib/python3.7/dist-packages (from DGL) (1.19.5)\n",
            "Requirement already satisfied: scipy>=1.1.0 in /usr/local/lib/python3.7/dist-packages (from DGL) (1.4.1)\n",
            "Requirement already satisfied: networkx>=2.1 in /usr/local/lib/python3.7/dist-packages (from DGL) (2.6.3)\n",
            "Requirement already satisfied: urllib3!=1.25.0,!=1.25.1,<1.26,>=1.21.1 in /usr/local/lib/python3.7/dist-packages (from requests>=2.19.0->DGL) (1.24.3)\n",
            "Requirement already satisfied: certifi>=2017.4.17 in /usr/local/lib/python3.7/dist-packages (from requests>=2.19.0->DGL) (2021.10.8)\n",
            "Requirement already satisfied: idna<3,>=2.5 in /usr/local/lib/python3.7/dist-packages (from requests>=2.19.0->DGL) (2.10)\n",
            "Requirement already satisfied: chardet<4,>=3.0.2 in /usr/local/lib/python3.7/dist-packages (from requests>=2.19.0->DGL) (3.0.4)\n",
            "Installing collected packages: DGL\n",
            "Successfully installed DGL-0.6.1\n",
            "\u001b[K     |████████████████████████████████| 7.9 MB 2.8 MB/s \n",
            "\u001b[K     |████████████████████████████████| 3.5 MB 2.8 MB/s \n",
            "\u001b[K     |████████████████████████████████| 2.3 MB 2.0 MB/s \n",
            "\u001b[K     |████████████████████████████████| 747 kB 2.6 MB/s \n",
            "\u001b[?25hCollecting torch-geometric\n",
            "  Downloading torch_geometric-2.0.3.tar.gz (370 kB)\n",
            "\u001b[K     |████████████████████████████████| 370 kB 5.2 MB/s \n",
            "\u001b[?25hRequirement already satisfied: numpy in /usr/local/lib/python3.7/dist-packages (from torch-geometric) (1.19.5)\n",
            "Requirement already satisfied: tqdm in /usr/local/lib/python3.7/dist-packages (from torch-geometric) (4.62.3)\n",
            "Requirement already satisfied: scipy in /usr/local/lib/python3.7/dist-packages (from torch-geometric) (1.4.1)\n",
            "Requirement already satisfied: networkx in /usr/local/lib/python3.7/dist-packages (from torch-geometric) (2.6.3)\n",
            "Requirement already satisfied: scikit-learn in /usr/local/lib/python3.7/dist-packages (from torch-geometric) (1.0.2)\n",
            "Requirement already satisfied: requests in /usr/local/lib/python3.7/dist-packages (from torch-geometric) (2.23.0)\n",
            "Requirement already satisfied: pandas in /usr/local/lib/python3.7/dist-packages (from torch-geometric) (1.1.5)\n",
            "Collecting rdflib\n",
            "  Downloading rdflib-6.1.1-py3-none-any.whl (482 kB)\n",
            "\u001b[K     |████████████████████████████████| 482 kB 57.4 MB/s \n",
            "\u001b[?25hRequirement already satisfied: googledrivedownloader in /usr/local/lib/python3.7/dist-packages (from torch-geometric) (0.4)\n",
            "Requirement already satisfied: jinja2 in /usr/local/lib/python3.7/dist-packages (from torch-geometric) (2.11.3)\n",
            "Requirement already satisfied: pyparsing in /usr/local/lib/python3.7/dist-packages (from torch-geometric) (3.0.6)\n",
            "Collecting yacs\n",
            "  Downloading yacs-0.1.8-py3-none-any.whl (14 kB)\n",
            "Requirement already satisfied: PyYAML in /usr/local/lib/python3.7/dist-packages (from torch-geometric) (3.13)\n",
            "Requirement already satisfied: MarkupSafe>=0.23 in /usr/local/lib/python3.7/dist-packages (from jinja2->torch-geometric) (2.0.1)\n",
            "Requirement already satisfied: pytz>=2017.2 in /usr/local/lib/python3.7/dist-packages (from pandas->torch-geometric) (2018.9)\n",
            "Requirement already satisfied: python-dateutil>=2.7.3 in /usr/local/lib/python3.7/dist-packages (from pandas->torch-geometric) (2.8.2)\n",
            "Requirement already satisfied: six>=1.5 in /usr/local/lib/python3.7/dist-packages (from python-dateutil>=2.7.3->pandas->torch-geometric) (1.15.0)\n",
            "Requirement already satisfied: setuptools in /usr/local/lib/python3.7/dist-packages (from rdflib->torch-geometric) (57.4.0)\n",
            "Requirement already satisfied: importlib-metadata in /usr/local/lib/python3.7/dist-packages (from rdflib->torch-geometric) (4.10.0)\n",
            "Collecting isodate\n",
            "  Downloading isodate-0.6.1-py2.py3-none-any.whl (41 kB)\n",
            "\u001b[K     |████████████████████████████████| 41 kB 745 kB/s \n",
            "\u001b[?25hRequirement already satisfied: zipp>=0.5 in /usr/local/lib/python3.7/dist-packages (from importlib-metadata->rdflib->torch-geometric) (3.7.0)\n",
            "Requirement already satisfied: typing-extensions>=3.6.4 in /usr/local/lib/python3.7/dist-packages (from importlib-metadata->rdflib->torch-geometric) (3.10.0.2)\n",
            "Requirement already satisfied: chardet<4,>=3.0.2 in /usr/local/lib/python3.7/dist-packages (from requests->torch-geometric) (3.0.4)\n",
            "Requirement already satisfied: idna<3,>=2.5 in /usr/local/lib/python3.7/dist-packages (from requests->torch-geometric) (2.10)\n",
            "Requirement already satisfied: certifi>=2017.4.17 in /usr/local/lib/python3.7/dist-packages (from requests->torch-geometric) (2021.10.8)\n",
            "Requirement already satisfied: urllib3!=1.25.0,!=1.25.1,<1.26,>=1.21.1 in /usr/local/lib/python3.7/dist-packages (from requests->torch-geometric) (1.24.3)\n",
            "Requirement already satisfied: threadpoolctl>=2.0.0 in /usr/local/lib/python3.7/dist-packages (from scikit-learn->torch-geometric) (3.0.0)\n",
            "Requirement already satisfied: joblib>=0.11 in /usr/local/lib/python3.7/dist-packages (from scikit-learn->torch-geometric) (1.1.0)\n",
            "Building wheels for collected packages: torch-geometric\n",
            "  Building wheel for torch-geometric (setup.py) ... \u001b[?25l\u001b[?25hdone\n",
            "  Created wheel for torch-geometric: filename=torch_geometric-2.0.3-py3-none-any.whl size=581968 sha256=2109100fd2f43082c2b71a33054549bbd32214e73ec2829bf015b39c85258c5d\n",
            "  Stored in directory: /root/.cache/pip/wheels/c3/2a/58/87ce0508964d4def1aafb92750c4f3ac77038efd1b9a89dcf5\n",
            "Successfully built torch-geometric\n",
            "Installing collected packages: isodate, yacs, rdflib, torch-geometric\n",
            "Successfully installed isodate-0.6.1 rdflib-6.1.1 torch-geometric-2.0.3 yacs-0.1.8\n"
          ]
        }
      ],
      "source": [
        "!pip install ogb\n",
        "!pip install DGL\n",
        "!pip install torch-scatter -q -f https://pytorch-geometric.com/whl/torch-1.10.0+cu111.html\n",
        "!pip install torch-sparse -q -f https://pytorch-geometric.com/whl/torch-1.10.0+cu111.html\n",
        "!pip install torch-cluster -q -f https://pytorch-geometric.com/whl/torch-1.10.0+cu111.html\n",
        "!pip install torch-spline-conv -q -f https://pytorch-geometric.com/whl/torch-1.10.0+cu111.html\n",
        "!pip install torch-geometric"
      ]
    },
    {
      "cell_type": "code",
      "execution_count": null,
      "metadata": {
        "id": "WS0YGnhzIchc"
      },
      "outputs": [],
      "source": [
        "from torch_geometric.nn import Node2Vec\n",
        "\n",
        "import torch\n",
        "import torch.nn.functional as F\n",
        "from torch.utils.data import DataLoader\n",
        "\n",
        "\n",
        "from torch_sparse import SparseTensor\n",
        "import torch_geometric.transforms as T\n",
        "from torch_geometric.nn import GCNConv, SAGEConv\n",
        "from torch_geometric.utils import negative_sampling\n",
        "\n",
        "from ogb.linkproppred import PygLinkPropPredDataset, Evaluator\n",
        "\n",
        "import networkx as nx\n",
        "import matplotlib.pyplot as plt"
      ]
    },
    {
      "cell_type": "markdown",
      "source": [
        "# Data Exploration and Visualization"
      ],
      "metadata": {
        "id": "gBllwGUz9v37"
      }
    },
    {
      "cell_type": "code",
      "execution_count": null,
      "metadata": {
        "colab": {
          "base_uri": "https://localhost:8080/"
        },
        "id": "_0oSw4QUInbm",
        "outputId": "c27d41dd-0588-4e6b-a352-6455607508d0"
      },
      "outputs": [
        {
          "output_type": "stream",
          "name": "stdout",
          "text": [
            "Downloading http://snap.stanford.edu/ogb/data/linkproppred/ddi.zip\n"
          ]
        },
        {
          "output_type": "stream",
          "name": "stderr",
          "text": [
            "Downloaded 0.04 GB: 100%|██████████| 46/46 [00:05<00:00,  9.17it/s]\n"
          ]
        },
        {
          "output_type": "stream",
          "name": "stdout",
          "text": [
            "Extracting dataset/ddi.zip\n"
          ]
        },
        {
          "output_type": "stream",
          "name": "stderr",
          "text": [
            "Processing...\n"
          ]
        },
        {
          "output_type": "stream",
          "name": "stdout",
          "text": [
            "Loading necessary files...\n",
            "This might take a while.\n",
            "Processing graphs...\n"
          ]
        },
        {
          "output_type": "stream",
          "name": "stderr",
          "text": [
            "100%|██████████| 1/1 [00:00<00:00, 32.41it/s]\n"
          ]
        },
        {
          "output_type": "stream",
          "name": "stdout",
          "text": [
            "Converting graphs into PyG objects...\n"
          ]
        },
        {
          "output_type": "stream",
          "name": "stderr",
          "text": [
            "100%|██████████| 1/1 [00:00<00:00, 2016.49it/s]"
          ]
        },
        {
          "output_type": "stream",
          "name": "stdout",
          "text": [
            "Saving...\n",
            "Data(edge_index=[2, 2135822])\n",
            "tensor([[4039, 2424, 4039,  ...,  338,  835, 3554],\n",
            "        [2424, 4039,  225,  ...,  708, 3554,  835]])\n"
          ]
        },
        {
          "output_type": "stream",
          "name": "stderr",
          "text": [
            "\n",
            "Done!\n"
          ]
        }
      ],
      "source": [
        "dataset = PygLinkPropPredDataset(name='ogbl-ddi')\n",
        "data = dataset[0]\n",
        "print(data)\n",
        "print(data.edge_index)"
      ]
    },
    {
      "cell_type": "code",
      "source": [
        "split_edge = dataset.get_edge_split()\n",
        "print(split_edge.keys())\n",
        "print(split_edge['test'].keys())"
      ],
      "metadata": {
        "colab": {
          "base_uri": "https://localhost:8080/"
        },
        "id": "W2tZFWtwDSc7",
        "outputId": "1ea1aa24-f7c8-4f7a-d066-350ea64c752f"
      },
      "execution_count": null,
      "outputs": [
        {
          "output_type": "stream",
          "name": "stdout",
          "text": [
            "dict_keys(['train', 'valid', 'test'])\n",
            "dict_keys(['edge', 'edge_neg'])\n"
          ]
        }
      ]
    },
    {
      "cell_type": "code",
      "source": [
        "G = nx.Graph()"
      ],
      "metadata": {
        "id": "ChcOvW9gDY89"
      },
      "execution_count": null,
      "outputs": []
    },
    {
      "cell_type": "code",
      "source": [
        "a = data.edge_index.numpy().T\n",
        "a.shape"
      ],
      "metadata": {
        "colab": {
          "base_uri": "https://localhost:8080/"
        },
        "id": "VNTY98reFkvq",
        "outputId": "0c5297d2-3e1e-4159-e17b-ebaf694bd712"
      },
      "execution_count": null,
      "outputs": [
        {
          "output_type": "execute_result",
          "data": {
            "text/plain": [
              "(2135822, 2)"
            ]
          },
          "metadata": {},
          "execution_count": 21
        }
      ]
    },
    {
      "cell_type": "code",
      "source": [
        "b = a.reshape(-1)"
      ],
      "metadata": {
        "id": "2Xv8J6-wOOk2"
      },
      "execution_count": null,
      "outputs": []
    },
    {
      "cell_type": "code",
      "source": [
        "G.add_nodes_from(b)"
      ],
      "metadata": {
        "id": "OdvKa08UOW7n"
      },
      "execution_count": null,
      "outputs": []
    },
    {
      "cell_type": "code",
      "source": [
        "b = [i.item() for i in b]"
      ],
      "metadata": {
        "id": "gux0tbpfOsNu"
      },
      "execution_count": null,
      "outputs": []
    },
    {
      "cell_type": "code",
      "source": [
        "G.add_edges_from(a, edge_attr=True)"
      ],
      "metadata": {
        "id": "Yxp1_7VHGBaS"
      },
      "execution_count": null,
      "outputs": []
    },
    {
      "cell_type": "code",
      "source": [
        "G.number_of_nodes(), G.number_of_edges()"
      ],
      "metadata": {
        "colab": {
          "base_uri": "https://localhost:8080/"
        },
        "id": "OY_ToN6OGIiR",
        "outputId": "da1dbcf5-464e-46ad-aa63-7ca9abe71d3a"
      },
      "execution_count": null,
      "outputs": [
        {
          "output_type": "execute_result",
          "data": {
            "text/plain": [
              "(4267, 1067911)"
            ]
          },
          "metadata": {},
          "execution_count": 53
        }
      ]
    },
    {
      "cell_type": "code",
      "source": [
        "import matplotlib.pyplot as plt\n",
        "nx.draw(G, node_size=20, cmap='Pastel1')"
      ],
      "metadata": {
        "colab": {
          "base_uri": "https://localhost:8080/",
          "height": 319
        },
        "id": "1eGWzcYrHgoS",
        "outputId": "50c0c13e-016a-480a-9094-8c4b2d1a3885"
      },
      "execution_count": null,
      "outputs": [
        {
          "output_type": "display_data",
          "data": {
            "image/png": "[encoded data removed]",
            "text/plain": [
              "<Figure size 432x288 with 1 Axes>"
            ]
          },
          "metadata": {}
        }
      ]
    },
    {
      "cell_type": "markdown",
      "source": [
        "# Node2Vec"
      ],
      "metadata": {
        "id": "E_jJ_04T91UB"
      }
    },
    {
      "cell_type": "markdown",
      "source": [
        "In this part I generate embeddings and save them in .pt format"
      ],
      "metadata": {
        "id": "9g-dErzL97Vi"
      }
    },
    {
      "cell_type": "code",
      "execution_count": null,
      "metadata": {
        "id": "s9P7OB26IQ9Q"
      },
      "outputs": [],
      "source": [
        "model = Node2Vec(data.edge_index, embedding_dim=48, walk_length=20,\n",
        "                  context_size=10, walks_per_node=10,\n",
        "                  num_negative_samples=1, p=1, q=1, sparse=True)"
      ]
    },
    {
      "cell_type": "code",
      "execution_count": null,
      "metadata": {
        "colab": {
          "base_uri": "https://localhost:8080/"
        },
        "id": "4pqvGpk_ItyE",
        "outputId": "20cc64cf-148d-4955-f527-c36d8625c6ca"
      },
      "outputs": [
        {
          "output_type": "stream",
          "name": "stdout",
          "text": [
            "torch.Size([4267, 48])\n"
          ]
        }
      ],
      "source": [
        "t = list(model.parameters())\n",
        "print(t[0].shape)"
      ]
    },
    {
      "cell_type": "code",
      "execution_count": null,
      "metadata": {
        "colab": {
          "base_uri": "https://localhost:8080/"
        },
        "id": "s5mfq-GaIvVs",
        "outputId": "8d62e9e1-0195-4f29-c7fb-8685e2afc38a"
      },
      "outputs": [
        {
          "output_type": "stream",
          "name": "stdout",
          "text": [
            "Embedding(4267, 48, sparse=True)\n"
          ]
        },
        {
          "output_type": "stream",
          "name": "stderr",
          "text": [
            "/usr/local/lib/python3.7/dist-packages/torch/utils/data/dataloader.py:481: UserWarning: This DataLoader will create 4 worker processes in total. Our suggested max number of worker in current system is 2, which is smaller than what this DataLoader is going to create. Please be aware that excessive worker creation might get DataLoader running slow or even freeze, lower the worker number to avoid potential slowness/freeze if necessary.\n",
            "  cpuset_checked))\n"
          ]
        }
      ],
      "source": [
        "loader = model.loader(batch_size=256, shuffle=True,\n",
        "                          num_workers=4)\n",
        "optimizer = torch.optim.SparseAdam(list(model.parameters()), lr=0.01)\n",
        "\n",
        "model.train()\n",
        "print(model.embedding)"
      ]
    },
    {
      "cell_type": "code",
      "execution_count": null,
      "metadata": {
        "id": "ecHbyjYkIz9U"
      },
      "outputs": [],
      "source": [
        "def save_embedding(model):\n",
        "    torch.save(model.embedding.weight.data.cpu(), '/content/drive/MyDrive/ML with Graph/embedding.pt')"
      ]
    },
    {
      "cell_type": "code",
      "execution_count": null,
      "metadata": {
        "id": "YRh8guy6JCfc"
      },
      "outputs": [],
      "source": [
        "for epoch in range(1, 101):\n",
        "    for i, (pos_rw, neg_rw) in enumerate(loader):\n",
        "        optimizer.zero_grad()\n",
        "        loss = model.loss(pos_rw, neg_rw)\n",
        "        loss.backward()\n",
        "        optimizer.step()\n",
        "\n",
        "        if (i + 1) % 1 == 0:\n",
        "            print(f'Epoch: {epoch:02d}, Step: {i+1:03d}/{len(loader)}, '\n",
        "                  f'Loss: {loss:.4f}')\n",
        "\n",
        "        if (i + 1) % 100 == 0:  # Save model every 100 steps.\n",
        "            save_embedding(model)\n",
        "    save_embedding(model)\n"
      ]
    },
    {
      "cell_type": "code",
      "source": [
        "model.embedding"
      ],
      "metadata": {
        "colab": {
          "base_uri": "https://localhost:8080/"
        },
        "id": "ORctvFkFXf7g",
        "outputId": "976947e9-22c9-4e8f-a5dd-010e265d56c8"
      },
      "execution_count": null,
      "outputs": [
        {
          "output_type": "execute_result",
          "data": {
            "text/plain": [
              "Embedding(4267, 48, sparse=True)"
            ]
          },
          "metadata": {},
          "execution_count": 66
        }
      ]
    },
    {
      "cell_type": "markdown",
      "source": [
        "# Link Predictor Class"
      ],
      "metadata": {
        "id": "CxgR_GjF-MSR"
      }
    },
    {
      "cell_type": "code",
      "source": [
        "class LinkPredictor(torch.nn.Module):\n",
        "    def __init__(self, in_channels, hidden_channels, out_channels, num_layers, dropout):\n",
        "      super(LinkPredictor, self).__init__()\n",
        "\n",
        "      self.lins = torch.nn.ModuleList()\n",
        "      self.lins.append(torch.nn.Linear(in_channels, hidden_channels))\n",
        "      for _ in range(num_layers - 2):\n",
        "          self.lins.append(torch.nn.Linear(hidden_channels, hidden_channels))\n",
        "      self.lins.append(torch.nn.Linear(hidden_channels, out_channels))\n",
        "\n",
        "      self.dropout = dropout\n",
        "\n",
        "    def reset_parameters(self):\n",
        "      for lin in self.lins:\n",
        "          lin.reset_parameters()\n",
        "\n",
        "    def forward(self, x_i, x_j):\n",
        "      # firstly it dot products embedding vectors for 2 nodes which have edge in between\n",
        "      x = x_i * x_j\n",
        "      for lin in self.lins[:-1]:\n",
        "          x = lin(x)\n",
        "          x = F.relu(x)\n",
        "          x = F.dropout(x, p=self.dropout, training=self.training)\n",
        "      x = self.lins[-1](x)\n",
        "      return torch.sigmoid(x)"
      ],
      "metadata": {
        "id": "4Urx-cie_309"
      },
      "execution_count": null,
      "outputs": []
    },
    {
      "cell_type": "markdown",
      "source": [
        "# MLP"
      ],
      "metadata": {
        "id": "vR0in8se93KY"
      }
    },
    {
      "cell_type": "markdown",
      "source": [
        "## Train Function for MLP"
      ],
      "metadata": {
        "id": "MABmgWJu-PNB"
      }
    },
    {
      "cell_type": "code",
      "source": [
        "def train(predictor, x, edge_index, split_edge, optimizer, batch_size):\n",
        "  predictor.train()\n",
        "\n",
        "  pos_train_edge = split_edge['train']['edge'].to(x.device)\n",
        "\n",
        "  total_loss = total_examples = 0\n",
        "  for perm in DataLoader(range(pos_train_edge.size(0)), batch_size, shuffle=True):\n",
        "    optimizer.zero_grad()\n",
        "\n",
        "    edge = pos_train_edge[perm].t()\n",
        "\n",
        "    pos_out = predictor(x[edge[0]], x[edge[1]])\n",
        "    pos_loss = -torch.log(pos_out + 1e-15).mean()\n",
        "\n",
        "    edge = negative_sampling(edge_index, num_nodes=x.size(0), num_neg_samples=perm.size(0), method='dense')\n",
        "\n",
        "    neg_out = predictor(x[edge[0]], x[edge[1]])\n",
        "    neg_loss = -torch.log(1 - neg_out + 1e-15).mean()\n",
        "\n",
        "    loss = pos_loss + neg_loss\n",
        "    loss.backward()\n",
        "    optimizer.step()\n",
        "\n",
        "    num_examples = pos_out.size(0)\n",
        "    total_loss += loss.item() * num_examples\n",
        "    total_examples += num_examples\n",
        "\n",
        "  return total_loss / total_examples\n"
      ],
      "metadata": {
        "id": "-zHyjv8sXOyU"
      },
      "execution_count": null,
      "outputs": []
    },
    {
      "cell_type": "markdown",
      "source": [
        "## Test Function for MLP"
      ],
      "metadata": {
        "id": "xlH3Th9D-Vpq"
      }
    },
    {
      "cell_type": "code",
      "source": [
        "@torch.no_grad()\n",
        "def test(predictor, x, split_edge, evaluator, batch_size):\n",
        "  predictor.eval()\n",
        "\n",
        "  pos_train_edge = split_edge['eval_train']['edge']\n",
        "  pos_valid_edge = split_edge['valid']['edge']\n",
        "  neg_valid_edge = split_edge['valid']['edge_neg']\n",
        "  pos_test_edge = split_edge['test']['edge']\n",
        "  neg_test_edge = split_edge['test']['edge_neg']\n",
        "\n",
        "  pos_train_preds = []\n",
        "  for perm in DataLoader(range(pos_train_edge.size(0)), batch_size):\n",
        "      edge = pos_train_edge[perm].t()\n",
        "      pos_train_preds += [predictor(x[edge[0]], x[edge[1]]).squeeze().cpu()]\n",
        "  pos_train_pred = torch.cat(pos_train_preds, dim=0)\n",
        "\n",
        "  pos_valid_preds = []\n",
        "  for perm in DataLoader(range(pos_valid_edge.size(0)), batch_size):\n",
        "      edge = pos_valid_edge[perm].t()\n",
        "      pos_valid_preds += [predictor(x[edge[0]], x[edge[1]]).squeeze().cpu()]\n",
        "  pos_valid_pred = torch.cat(pos_valid_preds, dim=0)\n",
        "\n",
        "  neg_valid_preds = []\n",
        "  for perm in DataLoader(range(neg_valid_edge.size(0)), batch_size):\n",
        "      edge = neg_valid_edge[perm].t()\n",
        "      neg_valid_preds += [predictor(x[edge[0]], x[edge[1]]).squeeze().cpu()]\n",
        "  neg_valid_pred = torch.cat(neg_valid_preds, dim=0)\n",
        "\n",
        "  pos_test_preds = []\n",
        "  for perm in DataLoader(range(pos_test_edge.size(0)), batch_size):\n",
        "      edge = pos_test_edge[perm].t()\n",
        "      pos_test_preds += [predictor(x[edge[0]], x[edge[1]]).squeeze().cpu()]\n",
        "  pos_test_pred = torch.cat(pos_test_preds, dim=0)\n",
        "\n",
        "  neg_test_preds = []\n",
        "  for perm in DataLoader(range(neg_test_edge.size(0)), batch_size):\n",
        "      edge = neg_test_edge[perm].t()\n",
        "      neg_test_preds += [predictor(x[edge[0]], x[edge[1]]).squeeze().cpu()]\n",
        "  neg_test_pred = torch.cat(neg_test_preds, dim=0)\n",
        "\n",
        "  results = {}\n",
        "  # for K in [10, 20, 30]:\n",
        "  K=20\n",
        "  evaluator.K = K\n",
        "  train_hits = evaluator.eval({\n",
        "      'y_pred_pos': pos_train_pred,\n",
        "      'y_pred_neg': neg_valid_pred,\n",
        "  })[f'hits@{K}']\n",
        "  valid_hits = evaluator.eval({\n",
        "      'y_pred_pos': pos_valid_pred,\n",
        "      'y_pred_neg': neg_valid_pred,\n",
        "  })[f'hits@{K}']\n",
        "  test_hits = evaluator.eval({\n",
        "      'y_pred_pos': pos_test_pred,\n",
        "      'y_pred_neg': neg_test_pred,\n",
        "  })[f'hits@{K}']\n",
        "\n",
        "  results[f'Hits@{K}'] = (train_hits, valid_hits, test_hits)\n",
        "\n",
        "  return results"
      ],
      "metadata": {
        "id": "0_C5ihFc-Xxc"
      },
      "execution_count": null,
      "outputs": []
    },
    {
      "cell_type": "markdown",
      "source": [
        "# GCN"
      ],
      "metadata": {
        "id": "lpmgPpq_-BIR"
      }
    },
    {
      "cell_type": "markdown",
      "source": [
        "## GCN Class"
      ],
      "metadata": {
        "id": "3zhVQYy9-Yti"
      }
    },
    {
      "cell_type": "code",
      "source": [
        "class GCN(torch.nn.Module):\n",
        "    def __init__(self, in_channels, hidden_channels, out_channels, num_layers,\n",
        "                 dropout):\n",
        "        super(GCN, self).__init__()\n",
        "\n",
        "        self.convs = torch.nn.ModuleList()\n",
        "        self.convs.append(GCNConv(in_channels, hidden_channels, cached=True))\n",
        "        for _ in range(num_layers - 2):\n",
        "            self.convs.append(\n",
        "                GCNConv(hidden_channels, hidden_channels, cached=True))\n",
        "        self.convs.append(GCNConv(hidden_channels, out_channels, cached=True))\n",
        "\n",
        "        self.dropout = dropout\n",
        "\n",
        "    def reset_parameters(self):\n",
        "        for conv in self.convs:\n",
        "            conv.reset_parameters()\n",
        "\n",
        "    def forward(self, x, adj_t):\n",
        "        for conv in self.convs[:-1]:\n",
        "            x = conv(x, adj_t)\n",
        "            x = F.relu(x)\n",
        "            x = F.dropout(x, p=self.dropout, training=self.training)\n",
        "        x = self.convs[-1](x, adj_t)\n",
        "        return x"
      ],
      "metadata": {
        "id": "CMjXUg4--DZw"
      },
      "execution_count": null,
      "outputs": []
    },
    {
      "cell_type": "markdown",
      "source": [
        "## Train Function for GCN"
      ],
      "metadata": {
        "id": "hqlP7ZE0-6eT"
      }
    },
    {
      "cell_type": "code",
      "source": [
        "def train(model, predictor, x, adj_t, split_edge, optimizer, batch_size):\n",
        "\n",
        "    row, col, _ = adj_t.coo()\n",
        "    edge_index = torch.stack([col, row], dim=0)\n",
        "\n",
        "    model.train()\n",
        "    predictor.train()\n",
        "\n",
        "    pos_train_edge = split_edge['train']['edge'].to(x.device)\n",
        "\n",
        "    total_loss = total_examples = 0\n",
        "    for perm in DataLoader(range(pos_train_edge.size(0)), batch_size,\n",
        "                           shuffle=True):\n",
        "        optimizer.zero_grad()\n",
        "\n",
        "        h = model(x, adj_t)\n",
        "        ## h is the embeddings generated from GNN\n",
        "\n",
        "        edge = pos_train_edge[perm].t()\n",
        "\n",
        "        pos_out = predictor(h[edge[0]], h[edge[1]])\n",
        "        pos_loss = -torch.log(pos_out + 1e-15).mean()\n",
        "\n",
        "        edge = negative_sampling(edge_index, num_nodes=x.size(0),\n",
        "                                 num_neg_samples=perm.size(0), method='dense')\n",
        "\n",
        "        neg_out = predictor(h[edge[0]], h[edge[1]])\n",
        "        neg_loss = -torch.log(1 - neg_out + 1e-15).mean()\n",
        "\n",
        "        loss = pos_loss + neg_loss\n",
        "        loss.backward()\n",
        "\n",
        "        torch.nn.utils.clip_grad_norm_(x, 1.0)\n",
        "        torch.nn.utils.clip_grad_norm_(model.parameters(), 1.0)\n",
        "        torch.nn.utils.clip_grad_norm_(predictor.parameters(), 1.0)\n",
        "\n",
        "        optimizer.step()\n",
        "\n",
        "        num_examples = pos_out.size(0)\n",
        "        total_loss += loss.item() * num_examples\n",
        "        total_examples += num_examples\n",
        "\n",
        "    return total_loss / total_examples\n"
      ],
      "metadata": {
        "id": "ulP3yH5nXzvm"
      },
      "execution_count": null,
      "outputs": []
    },
    {
      "cell_type": "markdown",
      "source": [
        "## Test Function for GCN"
      ],
      "metadata": {
        "id": "H8PaWE9T--7h"
      }
    },
    {
      "cell_type": "code",
      "source": [
        "@torch.no_grad()\n",
        "def test(model, predictor, x, adj_t, split_edge, evaluator, batch_size):\n",
        "    model.eval()\n",
        "    predictor.eval()\n",
        "\n",
        "    h = model(x, adj_t)\n",
        "\n",
        "    pos_train_edge = split_edge['eval_train']['edge']\n",
        "    pos_valid_edge = split_edge['valid']['edge']\n",
        "    neg_valid_edge = split_edge['valid']['edge_neg']\n",
        "    pos_test_edge = split_edge['test']['edge']\n",
        "    neg_test_edge = split_edge['test']['edge_neg']\n",
        "\n",
        "    pos_train_preds = []\n",
        "    for perm in DataLoader(range(pos_train_edge.size(0)), batch_size):\n",
        "        edge = pos_train_edge[perm].t()\n",
        "        pos_train_preds += [predictor(h[edge[0]], h[edge[1]]).squeeze()]\n",
        "    pos_train_pred = torch.cat(pos_train_preds, dim=0)\n",
        "\n",
        "    pos_valid_preds = []\n",
        "    for perm in DataLoader(range(pos_valid_edge.size(0)), batch_size):\n",
        "        edge = pos_valid_edge[perm].t()\n",
        "        pos_valid_preds += [predictor(h[edge[0]], h[edge[1]]).squeeze()]\n",
        "    pos_valid_pred = torch.cat(pos_valid_preds, dim=0)\n",
        "\n",
        "    neg_valid_preds = []\n",
        "    for perm in DataLoader(range(neg_valid_edge.size(0)), batch_size):\n",
        "        edge = neg_valid_edge[perm].t()\n",
        "        neg_valid_preds += [predictor(h[edge[0]], h[edge[1]]).squeeze()]\n",
        "    neg_valid_pred = torch.cat(neg_valid_preds, dim=0)\n",
        "\n",
        "    pos_test_preds = []\n",
        "    for perm in DataLoader(range(pos_test_edge.size(0)), batch_size):\n",
        "        edge = pos_test_edge[perm].t()\n",
        "        pos_test_preds += [predictor(h[edge[0]], h[edge[1]]).squeeze()]\n",
        "    pos_test_pred = torch.cat(pos_test_preds, dim=0)\n",
        "\n",
        "    neg_test_preds = []\n",
        "    for perm in DataLoader(range(neg_test_edge.size(0)), batch_size):\n",
        "        edge = neg_test_edge[perm].t()\n",
        "        neg_test_preds += [predictor(h[edge[0]], h[edge[1]]).squeeze()]\n",
        "    neg_test_pred = torch.cat(neg_test_preds, dim=0)\n",
        "\n",
        "    results = {}\n",
        "    # for K in [10, 20, 30]:\n",
        "    K=20\n",
        "    evaluator.K = K\n",
        "    train_hits = evaluator.eval({\n",
        "        'y_pred_pos': pos_train_pred,\n",
        "        'y_pred_neg': neg_valid_pred,\n",
        "    })[f'hits@{K}']\n",
        "    valid_hits = evaluator.eval({\n",
        "        'y_pred_pos': pos_valid_pred,\n",
        "        'y_pred_neg': neg_valid_pred,\n",
        "    })[f'hits@{K}']\n",
        "    test_hits = evaluator.eval({\n",
        "        'y_pred_pos': pos_test_pred,\n",
        "        'y_pred_neg': neg_test_pred,\n",
        "    })[f'hits@{K}']\n",
        "\n",
        "    results[f'Hits@{K}'] = (train_hits, valid_hits, test_hits)\n",
        "\n",
        "    return results"
      ],
      "metadata": {
        "id": "n0IWH-pwX4NO"
      },
      "execution_count": null,
      "outputs": []
    },
    {
      "cell_type": "markdown",
      "source": [
        "# Logger Class"
      ],
      "metadata": {
        "id": "qg0Z42pV-EBy"
      }
    },
    {
      "cell_type": "code",
      "source": [
        "class Logger(object):\n",
        "    def __init__(self, runs, info=None):\n",
        "        self.info = info\n",
        "        self.results = [[] for _ in range(runs)]\n",
        "\n",
        "    def add_result(self, run, result):\n",
        "        assert len(result) == 3\n",
        "        assert run >= 0 and run < len(self.results)\n",
        "        self.results[run].append(result)\n",
        "\n",
        "    def print_statistics(self, run=None):\n",
        "        if run is not None:\n",
        "            result = 100 * torch.tensor(self.results[run])\n",
        "            argmax = result[:, 1].argmax().item()\n",
        "            # print(f'Run {run + 1:02d}:')\n",
        "            print(f'Highest Train: {result[:, 0].max():.2f}')\n",
        "            print(f'Highest Valid: {result[:, 1].max():.2f}')\n",
        "            print(f'Final Train: {result[argmax, 0]:.2f}')\n",
        "            print(f'Final Test: {result[argmax, 2]:.2f}')\n",
        "        else:\n",
        "            result = 100 * torch.tensor(self.results)\n",
        "\n",
        "            best_results = []\n",
        "            for r in result:\n",
        "                train1 = r[:, 0].max().item()\n",
        "                valid = r[:, 1].max().item()\n",
        "                train2 = r[r[:, 1].argmax(), 0].item()\n",
        "                test = r[r[:, 1].argmax(), 2].item()\n",
        "                best_results.append((train1, valid, train2, test))\n",
        "\n",
        "            best_result = torch.tensor(best_results)\n",
        "\n",
        "            print(f'All runs:')\n",
        "            r = best_result[:, 0]\n",
        "            print(f'Highest Train: {r.mean():.2f} ± {r.std():.2f}')\n",
        "            r = best_result[:, 1]\n",
        "            print(f'Highest Valid: {r.mean():.2f} ± {r.std():.2f}')\n",
        "            r = best_result[:, 2]\n",
        "            print(f'  Final Train: {r.mean():.2f} ± {r.std():.2f}')\n",
        "            r = best_result[:, 3]\n",
        "            print(f'   Final Test: {r.mean():.2f} ± {r.std():.2f}')"
      ],
      "metadata": {
        "id": "d4fXc2Qe-FLE"
      },
      "execution_count": null,
      "outputs": []
    },
    {
      "cell_type": "markdown",
      "source": [
        "# Main Part"
      ],
      "metadata": {
        "id": "2eUbMLux-JSZ"
      }
    },
    {
      "cell_type": "markdown",
      "source": [
        "## Arguments"
      ],
      "metadata": {
        "id": "iukmkHeO_F25"
      }
    },
    {
      "cell_type": "code",
      "source": [
        "args = {\n",
        "    'log_steps' : 1,\n",
        "    'use_gcn': False, \n",
        "    'num_layers': 3,\n",
        "    'hidden_channels': 256,\n",
        "    'dropout': 0.5,\n",
        "    'batch_size': 64*1024,\n",
        "    'eval_steps': 1,\n",
        "    'lr': 0.01,\n",
        "    'epochs': 100,\n",
        "    'runs' : 1\n",
        "}\n",
        "args"
      ],
      "metadata": {
        "colab": {
          "base_uri": "https://localhost:8080/"
        },
        "id": "Ke_aZHXj-JNh",
        "outputId": "ce691bd9-46e5-4878-dea3-8b8a39ad4992"
      },
      "execution_count": null,
      "outputs": [
        {
          "output_type": "execute_result",
          "data": {
            "text/plain": [
              "{'batch_size': 65536,\n",
              " 'dropout': 0.5,\n",
              " 'epochs': 100,\n",
              " 'eval_steps': 1,\n",
              " 'hidden_channels': 256,\n",
              " 'log_steps': 1,\n",
              " 'lr': 0.01,\n",
              " 'num_layers': 3,\n",
              " 'runs': 1,\n",
              " 'use_gcn': False}"
            ]
          },
          "metadata": {},
          "execution_count": 61
        }
      ]
    },
    {
      "cell_type": "markdown",
      "source": [
        "## Select Model"
      ],
      "metadata": {
        "id": "Qej0DwJy_Mk5"
      }
    },
    {
      "cell_type": "code",
      "source": [
        "\n",
        "if args['use_gcn']:\n",
        "  dataset = PygLinkPropPredDataset(name='ogbl-ddi', transform=T.ToSparseTensor())\n",
        "  data = dataset[0]\n",
        "  adj_t = data.adj_t\n",
        "  split_edge = dataset.get_edge_split()\n",
        "  \n",
        "  torch.manual_seed(12345)\n",
        "  idx = torch.randperm(split_edge['train']['edge'].size(0))\n",
        "  idx = idx[:split_edge['valid']['edge'].size(0)]\n",
        "  split_edge['eval_train'] = {'edge': split_edge['train']['edge'][idx]}\n",
        "\n",
        "  model = GCN(args['hidden_channels'], args['hidden_channels'], args['hidden_channels'], args['num_layers'], args['dropout'])\n",
        "  emb = torch.nn.Embedding(data.adj_t.size(0), args['hidden_channels'])\n",
        "  predictor = LinkPredictor(args['hidden_channels'], args['hidden_channels'], 1, args['num_layers'], args['dropout'])\n",
        "\n",
        "else:\n",
        "  dataset = PygLinkPropPredDataset(name='ogbl-ddi')\n",
        "  data = dataset[0]\n",
        "  split_edge = dataset.get_edge_split()\n",
        "\n",
        "  torch.manual_seed(12345)\n",
        "  idx = torch.randperm(split_edge['train']['edge'].size(0))\n",
        "  idx = idx[:split_edge['valid']['edge'].size(0)]\n",
        "  split_edge['eval_train'] = {'edge': split_edge['train']['edge'][idx]}\n",
        "\n",
        "  x = torch.load('/content/drive/MyDrive/ML with Graph/embedding.pt')\n",
        "  predictor = LinkPredictor(x.size(-1), args['hidden_channels'], 1, args['num_layers'], args['dropout'])\n",
        "\n",
        "\n",
        "evaluator = Evaluator(name='ogbl-ddi')\n",
        "loggers = {'Hits@20': Logger(args['runs'])} #because Hits@20 is the best choice"
      ],
      "metadata": {
        "id": "wJKvfiS0_OVW"
      },
      "execution_count": null,
      "outputs": []
    },
    {
      "cell_type": "markdown",
      "source": [
        "## Training"
      ],
      "metadata": {
        "id": "fj_nBWng_OuR"
      }
    },
    {
      "cell_type": "code",
      "source": [
        "train_losses = []\n",
        "train_hit_20 = []\n",
        "val_hit_20 = []\n",
        "epoch_ls = []\n",
        "\n",
        "for run in range(args['runs']):\n",
        "  ## Train GCN\n",
        "  if args['use_gcn']:\n",
        "    torch.nn.init.xavier_uniform_(emb.weight)\n",
        "    model.reset_parameters()\n",
        "    predictor.reset_parameters()\n",
        "    optimizer = torch.optim.Adam(list(model.parameters()) + list(emb.parameters()) + list(predictor.parameters()), lr=args['lr'])\n",
        "\n",
        "    for epoch in range(1, 1 + args['epochs']):\n",
        "      loss = train(model, predictor, emb.weight, adj_t, split_edge, optimizer, args['batch_size'])\n",
        "\n",
        "      if epoch % args['eval_steps'] == 0:\n",
        "        results = test(model, predictor, emb.weight, adj_t, split_edge, evaluator, args['batch_size'])\n",
        "        for key, result in results.items():\n",
        "            loggers[key].add_result(run, result)\n",
        "\n",
        "        if epoch % args['log_steps'] == 0:\n",
        "            for key, result in results.items():\n",
        "                train_hits, valid_hits, test_hits = result\n",
        "                print(key)\n",
        "                print(f'Epoch: {epoch:02d}, '\n",
        "                      f'Loss: {loss:.4f}, '\n",
        "                      f'Train: {100 * train_hits:.2f}%, '\n",
        "                      f'Valid: {100 * valid_hits:.2f}%, '\n",
        "                      f'Test: {100 * test_hits:.2f}%')\n",
        "            print('---')\n",
        "        train_losses.append(loss)\n",
        "        train_hit_20.append(train_hits)\n",
        "        val_hit_20.append(valid_hits)\n",
        "        epoch_ls.append(epoch)\n",
        "\n",
        "  ### Train MLP\n",
        "  else:\n",
        "    predictor.reset_parameters()\n",
        "    optimizer = torch.optim.Adam(predictor.parameters(), lr=args.lr)\n",
        "\n",
        "    for epoch in range(1, 1 + args['epochs']):\n",
        "      loss = train(predictor, x, data.edge_index, split_edge, optimizer, args['batch_size'])\n",
        "\n",
        "      if epoch % args['eval_steps'] == 0:\n",
        "        results = test(predictor, x, split_edge, evaluator, args.batch_size)\n",
        "        for key, result in results.items():\n",
        "          loggers[key].add_result(run, result)\n",
        "\n",
        "        if epoch % args['log_steps'] == 0:\n",
        "          for key, result in results.items():\n",
        "              train_hits, valid_hits, test_hits = result\n",
        "              print(key)\n",
        "              print(f'Epoch: {epoch:02d}, '\n",
        "                    f'Loss: {loss:.4f}, '\n",
        "                    f'Train: {100 * train_hits:.2f}%, '\n",
        "                    f'Valid: {100 * valid_hits:.2f}%, '\n",
        "                    f'Test: {100 * test_hits:.2f}%')\n",
        "          print('---')\n",
        "\n",
        "\n",
        "  for key in loggers.keys():\n",
        "    print(key)\n",
        "    loggers[key].print_statistics(run)\n",
        "\n",
        "############################ Plotting ################################\n",
        "\n",
        "plt.plot(epoch_ls, train_losses, '-o')\n",
        "plt.xlabel('epoch')\n",
        "plt.ylabel('losses')\n",
        "plt.title('Train Losses')\n",
        " \n",
        "plt.show()"
      ],
      "metadata": {
        "colab": {
          "base_uri": "https://localhost:8080/",
          "height": 1000
        },
        "id": "4tZtRwwxfYir",
        "outputId": "0e8ff6b6-fbc5-40f8-aa4f-c79dd0e02358"
      },
      "execution_count": null,
      "outputs": [
        {
          "output_type": "stream",
          "name": "stdout",
          "text": [
            "Hits@20\n",
            "Epoch: 01, Loss: 1.3512, Train: 0.02%, Valid: 0.02%, Test: 0.03%\n",
            "---\n",
            "Hits@20\n",
            "Epoch: 02, Loss: 0.9332, Train: 6.37%, Valid: 5.93%, Test: 3.68%\n",
            "---\n",
            "Hits@20\n",
            "Epoch: 03, Loss: 0.8113, Train: 3.88%, Valid: 3.38%, Test: 2.53%\n",
            "---\n",
            "Hits@20\n",
            "Epoch: 04, Loss: 0.7552, Train: 4.69%, Valid: 4.35%, Test: 1.45%\n",
            "---\n",
            "Hits@20\n",
            "Epoch: 05, Loss: 0.6742, Train: 5.66%, Valid: 5.26%, Test: 1.76%\n",
            "---\n",
            "Hits@20\n",
            "Epoch: 06, Loss: 0.6346, Train: 17.59%, Valid: 15.94%, Test: 8.90%\n",
            "---\n",
            "Hits@20\n",
            "Epoch: 07, Loss: 0.6169, Train: 15.39%, Valid: 13.83%, Test: 4.28%\n",
            "---\n",
            "Hits@20\n",
            "Epoch: 08, Loss: 0.5999, Train: 18.87%, Valid: 17.04%, Test: 15.54%\n",
            "---\n",
            "Hits@20\n",
            "Epoch: 09, Loss: 0.5882, Train: 19.14%, Valid: 17.17%, Test: 16.68%\n",
            "---\n",
            "Hits@20\n",
            "Epoch: 10, Loss: 0.5733, Train: 15.18%, Valid: 13.74%, Test: 13.07%\n",
            "---\n",
            "Hits@20\n",
            "Epoch: 11, Loss: 0.5539, Train: 17.98%, Valid: 16.26%, Test: 16.94%\n",
            "---\n",
            "Hits@20\n",
            "Epoch: 12, Loss: 0.5514, Train: 29.27%, Valid: 26.78%, Test: 15.88%\n",
            "---\n",
            "Hits@20\n",
            "Epoch: 13, Loss: 0.5168, Train: 25.18%, Valid: 23.07%, Test: 16.48%\n",
            "---\n",
            "Hits@20\n",
            "Epoch: 14, Loss: 0.5055, Train: 17.07%, Valid: 15.51%, Test: 15.87%\n",
            "---\n",
            "Hits@20\n",
            "Epoch: 15, Loss: 0.4855, Train: 27.73%, Valid: 25.35%, Test: 20.20%\n",
            "---\n",
            "Hits@20\n",
            "Epoch: 16, Loss: 0.4763, Train: 24.70%, Valid: 22.26%, Test: 18.11%\n",
            "---\n",
            "Hits@20\n",
            "Epoch: 17, Loss: 0.4655, Train: 30.16%, Valid: 27.08%, Test: 24.29%\n",
            "---\n",
            "Hits@20\n",
            "Epoch: 18, Loss: 0.4589, Train: 38.11%, Valid: 35.48%, Test: 27.16%\n",
            "---\n",
            "Hits@20\n",
            "Epoch: 19, Loss: 0.4611, Train: 30.71%, Valid: 28.09%, Test: 22.61%\n",
            "---\n",
            "Hits@20\n",
            "Epoch: 20, Loss: 0.4363, Train: 31.58%, Valid: 28.54%, Test: 20.21%\n",
            "---\n",
            "Hits@20\n",
            "Epoch: 21, Loss: 0.4274, Train: 34.49%, Valid: 31.19%, Test: 20.24%\n",
            "---\n",
            "Hits@20\n",
            "Epoch: 22, Loss: 0.4352, Train: 39.25%, Valid: 36.87%, Test: 26.49%\n",
            "---\n",
            "Hits@20\n",
            "Epoch: 23, Loss: 0.4180, Train: 25.45%, Valid: 22.98%, Test: 16.18%\n",
            "---\n",
            "Hits@20\n",
            "Epoch: 24, Loss: 0.4052, Train: 32.13%, Valid: 28.89%, Test: 33.11%\n",
            "---\n",
            "Hits@20\n",
            "Epoch: 25, Loss: 0.3994, Train: 25.90%, Valid: 23.23%, Test: 16.38%\n",
            "---\n",
            "Hits@20\n",
            "Epoch: 26, Loss: 0.4066, Train: 35.09%, Valid: 31.98%, Test: 22.66%\n",
            "---\n",
            "Hits@20\n",
            "Epoch: 27, Loss: 0.3906, Train: 30.69%, Valid: 27.44%, Test: 13.64%\n",
            "---\n",
            "Hits@20\n",
            "Epoch: 28, Loss: 0.3849, Train: 28.91%, Valid: 26.93%, Test: 20.83%\n",
            "---\n",
            "Hits@20\n",
            "Epoch: 29, Loss: 0.3799, Train: 26.26%, Valid: 23.43%, Test: 16.79%\n",
            "---\n",
            "Hits@20\n",
            "Epoch: 30, Loss: 0.3815, Train: 31.54%, Valid: 28.51%, Test: 19.40%\n",
            "---\n",
            "Hits@20\n",
            "Epoch: 31, Loss: 0.3789, Train: 31.92%, Valid: 28.90%, Test: 15.27%\n",
            "---\n",
            "Hits@20\n",
            "Epoch: 32, Loss: 0.3617, Train: 38.86%, Valid: 35.45%, Test: 16.69%\n",
            "---\n",
            "Hits@20\n",
            "Epoch: 33, Loss: 0.3577, Train: 24.84%, Valid: 22.18%, Test: 30.36%\n",
            "---\n",
            "Hits@20\n",
            "Epoch: 34, Loss: 0.3596, Train: 32.90%, Valid: 29.78%, Test: 17.14%\n",
            "---\n",
            "Hits@20\n",
            "Epoch: 35, Loss: 0.3566, Train: 31.57%, Valid: 28.50%, Test: 19.55%\n",
            "---\n",
            "Hits@20\n",
            "Epoch: 36, Loss: 0.3467, Train: 33.49%, Valid: 30.13%, Test: 16.83%\n",
            "---\n",
            "Hits@20\n",
            "Epoch: 37, Loss: 0.3435, Train: 34.30%, Valid: 30.83%, Test: 13.07%\n",
            "---\n",
            "Hits@20\n",
            "Epoch: 38, Loss: 0.3422, Train: 40.34%, Valid: 36.41%, Test: 22.89%\n",
            "---\n",
            "Hits@20\n",
            "Epoch: 39, Loss: 0.3415, Train: 25.43%, Valid: 23.02%, Test: 12.22%\n",
            "---\n",
            "Hits@20\n",
            "Epoch: 40, Loss: 0.3427, Train: 30.24%, Valid: 27.17%, Test: 14.85%\n",
            "---\n",
            "Hits@20\n",
            "Epoch: 41, Loss: 0.3329, Train: 35.32%, Valid: 31.66%, Test: 18.11%\n",
            "---\n",
            "Hits@20\n",
            "Epoch: 42, Loss: 0.3313, Train: 28.72%, Valid: 25.42%, Test: 14.80%\n",
            "---\n",
            "Hits@20\n",
            "Epoch: 43, Loss: 0.3245, Train: 28.76%, Valid: 25.99%, Test: 9.93%\n",
            "---\n",
            "Hits@20\n",
            "Epoch: 44, Loss: 0.3216, Train: 40.67%, Valid: 36.45%, Test: 20.60%\n",
            "---\n",
            "Hits@20\n",
            "Epoch: 45, Loss: 0.3207, Train: 39.91%, Valid: 35.95%, Test: 20.53%\n",
            "---\n",
            "Hits@20\n",
            "Epoch: 46, Loss: 0.3252, Train: 37.22%, Valid: 33.30%, Test: 25.92%\n",
            "---\n",
            "Hits@20\n",
            "Epoch: 47, Loss: 0.3218, Train: 43.51%, Valid: 39.10%, Test: 21.70%\n",
            "---\n",
            "Hits@20\n",
            "Epoch: 48, Loss: 0.3204, Train: 41.35%, Valid: 37.43%, Test: 23.87%\n",
            "---\n",
            "Hits@20\n",
            "Epoch: 49, Loss: 0.3124, Train: 28.60%, Valid: 25.34%, Test: 26.29%\n",
            "---\n",
            "Hits@20\n",
            "Epoch: 50, Loss: 0.3135, Train: 31.57%, Valid: 28.45%, Test: 13.69%\n",
            "---\n",
            "Hits@20\n",
            "Epoch: 51, Loss: 0.3090, Train: 33.82%, Valid: 30.60%, Test: 21.11%\n",
            "---\n",
            "Hits@20\n",
            "Epoch: 52, Loss: 0.3084, Train: 42.09%, Valid: 38.19%, Test: 37.68%\n",
            "---\n",
            "Hits@20\n",
            "Epoch: 53, Loss: 0.3047, Train: 30.58%, Valid: 27.40%, Test: 25.53%\n",
            "---\n",
            "Hits@20\n",
            "Epoch: 54, Loss: 0.3038, Train: 44.99%, Valid: 40.62%, Test: 22.17%\n",
            "---\n",
            "Hits@20\n",
            "Epoch: 55, Loss: 0.3033, Train: 34.65%, Valid: 30.90%, Test: 23.90%\n",
            "---\n",
            "Hits@20\n",
            "Epoch: 56, Loss: 0.2988, Train: 42.95%, Valid: 38.27%, Test: 26.95%\n",
            "---\n",
            "Hits@20\n",
            "Epoch: 57, Loss: 0.2984, Train: 40.83%, Valid: 36.67%, Test: 22.48%\n",
            "---\n",
            "Hits@20\n",
            "Epoch: 58, Loss: 0.3019, Train: 46.72%, Valid: 42.81%, Test: 24.95%\n",
            "---\n",
            "Hits@20\n",
            "Epoch: 59, Loss: 0.3013, Train: 45.50%, Valid: 41.71%, Test: 25.00%\n",
            "---\n",
            "Hits@20\n",
            "Epoch: 60, Loss: 0.2931, Train: 41.49%, Valid: 37.11%, Test: 33.53%\n",
            "---\n",
            "Hits@20\n",
            "Epoch: 61, Loss: 0.2912, Train: 42.00%, Valid: 38.24%, Test: 28.24%\n",
            "---\n",
            "Hits@20\n",
            "Epoch: 62, Loss: 0.2927, Train: 40.32%, Valid: 36.56%, Test: 23.37%\n",
            "---\n",
            "Hits@20\n",
            "Epoch: 63, Loss: 0.2862, Train: 49.03%, Valid: 44.44%, Test: 35.54%\n",
            "---\n",
            "Hits@20\n",
            "Epoch: 64, Loss: 0.2852, Train: 33.61%, Valid: 30.76%, Test: 12.67%\n",
            "---\n",
            "Hits@20\n",
            "Epoch: 65, Loss: 0.2866, Train: 41.68%, Valid: 37.09%, Test: 29.06%\n",
            "---\n",
            "Hits@20\n",
            "Epoch: 66, Loss: 0.2826, Train: 24.37%, Valid: 21.50%, Test: 17.92%\n",
            "---\n",
            "Hits@20\n",
            "Epoch: 67, Loss: 0.2818, Train: 34.55%, Valid: 30.80%, Test: 31.07%\n",
            "---\n",
            "Hits@20\n",
            "Epoch: 68, Loss: 0.2808, Train: 31.72%, Valid: 28.32%, Test: 13.93%\n",
            "---\n",
            "Hits@20\n",
            "Epoch: 69, Loss: 0.2859, Train: 36.43%, Valid: 32.34%, Test: 16.78%\n",
            "---\n",
            "Hits@20\n",
            "Epoch: 70, Loss: 0.2790, Train: 33.73%, Valid: 29.83%, Test: 23.72%\n",
            "---\n",
            "Hits@20\n",
            "Epoch: 71, Loss: 0.2726, Train: 49.12%, Valid: 44.14%, Test: 25.63%\n",
            "---\n",
            "Hits@20\n",
            "Epoch: 72, Loss: 0.2728, Train: 44.63%, Valid: 41.00%, Test: 24.95%\n",
            "---\n",
            "Hits@20\n",
            "Epoch: 73, Loss: 0.2783, Train: 27.48%, Valid: 24.19%, Test: 21.40%\n",
            "---\n",
            "Hits@20\n",
            "Epoch: 74, Loss: 0.2717, Train: 35.72%, Valid: 31.75%, Test: 15.74%\n",
            "---\n",
            "Hits@20\n",
            "Epoch: 75, Loss: 0.2705, Train: 46.44%, Valid: 41.79%, Test: 32.22%\n",
            "---\n",
            "Hits@20\n",
            "Epoch: 76, Loss: 0.2706, Train: 40.16%, Valid: 36.15%, Test: 37.37%\n",
            "---\n",
            "Hits@20\n",
            "Epoch: 77, Loss: 0.2689, Train: 53.74%, Valid: 48.09%, Test: 38.37%\n",
            "---\n",
            "Hits@20\n",
            "Epoch: 78, Loss: 0.2684, Train: 49.26%, Valid: 44.95%, Test: 28.99%\n",
            "---\n",
            "Hits@20\n",
            "Epoch: 79, Loss: 0.2688, Train: 53.67%, Valid: 48.85%, Test: 32.80%\n",
            "---\n",
            "Hits@20\n",
            "Epoch: 80, Loss: 0.2666, Train: 36.01%, Valid: 31.99%, Test: 20.92%\n",
            "---\n",
            "Hits@20\n",
            "Epoch: 81, Loss: 0.2629, Train: 41.58%, Valid: 36.73%, Test: 14.92%\n",
            "---\n",
            "Hits@20\n",
            "Epoch: 82, Loss: 0.2656, Train: 42.88%, Valid: 38.97%, Test: 20.51%\n",
            "---\n",
            "Hits@20\n",
            "Epoch: 83, Loss: 0.2619, Train: 41.27%, Valid: 36.17%, Test: 29.83%\n",
            "---\n",
            "Hits@20\n",
            "Epoch: 84, Loss: 0.2592, Train: 39.80%, Valid: 35.24%, Test: 32.49%\n",
            "---\n",
            "Hits@20\n",
            "Epoch: 85, Loss: 0.2587, Train: 47.13%, Valid: 41.74%, Test: 48.82%\n",
            "---\n",
            "Hits@20\n",
            "Epoch: 86, Loss: 0.2569, Train: 48.60%, Valid: 43.91%, Test: 41.26%\n",
            "---\n",
            "Hits@20\n",
            "Epoch: 87, Loss: 0.2552, Train: 36.27%, Valid: 32.49%, Test: 20.86%\n",
            "---\n",
            "Hits@20\n",
            "Epoch: 88, Loss: 0.2518, Train: 52.10%, Valid: 46.54%, Test: 39.25%\n",
            "---\n",
            "Hits@20\n",
            "Epoch: 89, Loss: 0.2495, Train: 41.60%, Valid: 36.68%, Test: 24.07%\n",
            "---\n",
            "Hits@20\n",
            "Epoch: 90, Loss: 0.2499, Train: 54.13%, Valid: 48.47%, Test: 43.35%\n",
            "---\n",
            "Hits@20\n",
            "Epoch: 91, Loss: 0.2492, Train: 49.15%, Valid: 43.81%, Test: 16.58%\n",
            "---\n",
            "Hits@20\n",
            "Epoch: 92, Loss: 0.2498, Train: 55.97%, Valid: 50.31%, Test: 36.36%\n",
            "---\n",
            "Hits@20\n",
            "Epoch: 93, Loss: 0.2497, Train: 57.11%, Valid: 51.53%, Test: 38.33%\n",
            "---\n",
            "Hits@20\n",
            "Epoch: 94, Loss: 0.2500, Train: 56.62%, Valid: 51.10%, Test: 36.02%\n",
            "---\n",
            "Hits@20\n",
            "Epoch: 95, Loss: 0.2460, Train: 40.50%, Valid: 35.92%, Test: 27.68%\n",
            "---\n",
            "Hits@20\n",
            "Epoch: 96, Loss: 0.2476, Train: 57.34%, Valid: 51.64%, Test: 37.51%\n",
            "---\n",
            "Hits@20\n",
            "Epoch: 97, Loss: 0.2443, Train: 51.68%, Valid: 46.12%, Test: 39.63%\n",
            "---\n",
            "Hits@20\n",
            "Epoch: 98, Loss: 0.2431, Train: 44.02%, Valid: 38.95%, Test: 35.70%\n",
            "---\n",
            "Hits@20\n",
            "Epoch: 99, Loss: 0.2462, Train: 59.02%, Valid: 53.01%, Test: 46.40%\n",
            "---\n",
            "Hits@20\n",
            "Epoch: 100, Loss: 0.2403, Train: 55.02%, Valid: 49.57%, Test: 21.68%\n",
            "---\n",
            "Hits@20\n",
            "Highest Train: 59.02\n",
            "Highest Valid: 53.01\n",
            "Final Train: 59.02\n",
            "Final Test: 46.40\n"
          ]
        },
        {
          "output_type": "display_data",
          "data": {
            "image/png": "[encoded data removed]",
            "text/plain": [
              "<Figure size 432x288 with 1 Axes>"
            ]
          },
          "metadata": {
            "needs_background": "light"
          }
        }
      ]
    },
    {
      "cell_type": "code",
      "source": [
        "plt.plot(epoch_ls, train_hit_20, '-o')\n",
        "plt.plot(epoch_ls, val_hit_20, '-o')\n",
        "plt.xlabel('epoch')\n",
        "plt.ylabel('Hits@20')\n",
        "plt.legend(['Train','Valid'])\n",
        "plt.title('Train vs Valid Hits Scores')\n",
        "\n",
        "plt.show()"
      ],
      "metadata": {
        "colab": {
          "base_uri": "https://localhost:8080/",
          "height": 295
        },
        "id": "X98Xwz7qwS9-",
        "outputId": "95486bea-c450-4bc0-a0b1-553ce7cc818a"
      },
      "execution_count": null,
      "outputs": [
        {
          "output_type": "display_data",
          "data": {
            "image/png": "[encoded data removed]",
            "text/plain": [
              "<Figure size 432x288 with 1 Axes>"
            ]
          },
          "metadata": {
            "needs_background": "light"
          }
        }
      ]
    },
    {
      "cell_type": "code",
      "source": [
        "### MLP\n",
        "train_losses_M = []\n",
        "train_hit_20_M = []\n",
        "val_hit_20_M = []\n",
        "epoch_ls_M = []\n",
        "\n",
        "for run in range(args['runs']):\n",
        "  ## Train GCN\n",
        "  if args['use_gcn']:\n",
        "    torch.nn.init.xavier_uniform_(emb.weight)\n",
        "    model.reset_parameters()\n",
        "    predictor.reset_parameters()\n",
        "    optimizer = torch.optim.Adam(list(model.parameters()) + list(emb.parameters()) + list(predictor.parameters()), lr=args['lr'])\n",
        "\n",
        "    for epoch in range(1, 1 + args['epochs']):\n",
        "      loss = train(model, predictor, emb.weight, adj_t, split_edge, optimizer, args['batch_size'])\n",
        "\n",
        "      if epoch % args['eval_steps'] == 0:\n",
        "        results = test(model, predictor, emb.weight, adj_t, split_edge, evaluator, args['batch_size'])\n",
        "        for key, result in results.items():\n",
        "            loggers[key].add_result(run, result)\n",
        "\n",
        "        if epoch % args['log_steps'] == 0:\n",
        "            for key, result in results.items():\n",
        "                train_hits, valid_hits, test_hits = result\n",
        "                print(key)\n",
        "                print(f'Epoch: {epoch:02d}, '\n",
        "                      f'Loss: {loss:.4f}, '\n",
        "                      f'Train: {100 * train_hits:.2f}%, '\n",
        "                      f'Valid: {100 * valid_hits:.2f}%, '\n",
        "                      f'Test: {100 * test_hits:.2f}%')\n",
        "            print('---')\n",
        "        train_losses.append(loss)\n",
        "        train_hit_20.append(train_hits)\n",
        "        val_hit_20.append(valid_hits)\n",
        "        epoch_ls.append(epoch)\n",
        "\n",
        "  ### Train MLP\n",
        "  else:\n",
        "    predictor.reset_parameters()\n",
        "    optimizer = torch.optim.Adam(predictor.parameters(), lr=args['lr'])\n",
        "\n",
        "    for epoch in range(1, 1 + args['epochs']):\n",
        "      loss = train(predictor, x, data.edge_index, split_edge, optimizer, args['batch_size'])\n",
        "\n",
        "      if epoch % args['eval_steps'] == 0:\n",
        "        results = test(predictor, x, split_edge, evaluator, args['batch_size'])\n",
        "        for key, result in results.items():\n",
        "          loggers[key].add_result(run, result)\n",
        "\n",
        "        if epoch % args['log_steps'] == 0:\n",
        "          for key, result in results.items():\n",
        "            train_hits, valid_hits, test_hits = result\n",
        "            print(key)\n",
        "            print(f'Epoch: {epoch:02d}, '\n",
        "                  f'Loss: {loss:.4f}, '\n",
        "                  f'Train: {100 * train_hits:.2f}%, '\n",
        "                  f'Valid: {100 * valid_hits:.2f}%, '\n",
        "                  f'Test: {100 * test_hits:.2f}%')\n",
        "          print('---')\n",
        "        train_losses_M.append(loss)\n",
        "        train_hit_20_M.append(train_hits)\n",
        "        val_hit_20_M.append(valid_hits)\n",
        "        epoch_ls_M.append(epoch)\n",
        "\n",
        "\n",
        "  for key in loggers.keys():\n",
        "    print(key)\n",
        "    loggers[key].print_statistics(run)\n",
        "\n",
        "############################ Plotting ################################\n",
        "\n",
        "plt.plot(epoch_ls, train_losses, '-o')\n",
        "plt.xlabel('epoch')\n",
        "plt.ylabel('losses')\n",
        "plt.title('Train Losses')\n",
        " \n",
        "plt.show()"
      ],
      "metadata": {
        "colab": {
          "base_uri": "https://localhost:8080/",
          "height": 1000
        },
        "id": "BP08Nvo5rlmL",
        "outputId": "da6f98f0-db9d-4a11-9600-67c603ed4330"
      },
      "execution_count": null,
      "outputs": [
        {
          "output_type": "stream",
          "name": "stdout",
          "text": [
            "Hits@20\n",
            "Epoch: 01, Loss: 1.0489, Train: 0.44%, Valid: 0.42%, Test: 0.26%\n",
            "---\n",
            "Hits@20\n",
            "Epoch: 02, Loss: 0.9301, Train: 0.69%, Valid: 0.64%, Test: 0.35%\n",
            "---\n",
            "Hits@20\n",
            "Epoch: 03, Loss: 0.9136, Train: 1.03%, Valid: 0.94%, Test: 0.46%\n",
            "---\n",
            "Hits@20\n",
            "Epoch: 04, Loss: 0.9068, Train: 1.05%, Valid: 0.94%, Test: 0.62%\n",
            "---\n",
            "Hits@20\n",
            "Epoch: 05, Loss: 0.9015, Train: 1.06%, Valid: 0.95%, Test: 0.60%\n",
            "---\n",
            "Hits@20\n",
            "Epoch: 06, Loss: 0.8982, Train: 1.17%, Valid: 1.04%, Test: 0.61%\n",
            "---\n",
            "Hits@20\n",
            "Epoch: 07, Loss: 0.8965, Train: 1.23%, Valid: 1.08%, Test: 0.55%\n",
            "---\n",
            "Hits@20\n",
            "Epoch: 08, Loss: 0.8933, Train: 1.27%, Valid: 1.12%, Test: 0.65%\n",
            "---\n",
            "Hits@20\n",
            "Epoch: 09, Loss: 0.8939, Train: 1.66%, Valid: 1.48%, Test: 0.63%\n",
            "---\n",
            "Hits@20\n",
            "Epoch: 10, Loss: 0.8917, Train: 1.69%, Valid: 1.52%, Test: 0.86%\n",
            "---\n",
            "Hits@20\n",
            "Epoch: 11, Loss: 0.8914, Train: 1.79%, Valid: 1.58%, Test: 0.91%\n",
            "---\n",
            "Hits@20\n",
            "Epoch: 12, Loss: 0.8892, Train: 2.17%, Valid: 1.96%, Test: 1.01%\n",
            "---\n",
            "Hits@20\n",
            "Epoch: 13, Loss: 0.8891, Train: 2.33%, Valid: 2.10%, Test: 1.12%\n",
            "---\n",
            "Hits@20\n",
            "Epoch: 14, Loss: 0.8879, Train: 2.42%, Valid: 2.19%, Test: 1.11%\n",
            "---\n",
            "Hits@20\n",
            "Epoch: 15, Loss: 0.8860, Train: 2.28%, Valid: 2.06%, Test: 1.02%\n",
            "---\n",
            "Hits@20\n",
            "Epoch: 16, Loss: 0.8862, Train: 2.30%, Valid: 2.05%, Test: 1.11%\n",
            "---\n",
            "Hits@20\n",
            "Epoch: 17, Loss: 0.8851, Train: 2.32%, Valid: 2.06%, Test: 1.16%\n",
            "---\n",
            "Hits@20\n",
            "Epoch: 18, Loss: 0.8846, Train: 2.35%, Valid: 2.09%, Test: 1.02%\n",
            "---\n",
            "Hits@20\n",
            "Epoch: 19, Loss: 0.8848, Train: 2.27%, Valid: 2.04%, Test: 1.03%\n",
            "---\n",
            "Hits@20\n",
            "Epoch: 20, Loss: 0.8844, Train: 2.21%, Valid: 1.99%, Test: 1.19%\n",
            "---\n",
            "Hits@20\n",
            "Epoch: 21, Loss: 0.8814, Train: 2.19%, Valid: 1.98%, Test: 1.05%\n",
            "---\n",
            "Hits@20\n",
            "Epoch: 22, Loss: 0.8820, Train: 2.47%, Valid: 2.22%, Test: 1.07%\n",
            "---\n",
            "Hits@20\n",
            "Epoch: 23, Loss: 0.8815, Train: 2.37%, Valid: 2.12%, Test: 0.98%\n",
            "---\n",
            "Hits@20\n",
            "Epoch: 24, Loss: 0.8805, Train: 2.57%, Valid: 2.30%, Test: 1.08%\n",
            "---\n",
            "Hits@20\n",
            "Epoch: 25, Loss: 0.8800, Train: 2.75%, Valid: 2.45%, Test: 1.04%\n",
            "---\n",
            "Hits@20\n",
            "Epoch: 26, Loss: 0.8788, Train: 2.43%, Valid: 2.14%, Test: 1.02%\n",
            "---\n",
            "Hits@20\n",
            "Epoch: 27, Loss: 0.8784, Train: 2.69%, Valid: 2.38%, Test: 0.97%\n",
            "---\n",
            "Hits@20\n",
            "Epoch: 28, Loss: 0.8792, Train: 2.62%, Valid: 2.33%, Test: 0.97%\n",
            "---\n",
            "Hits@20\n",
            "Epoch: 29, Loss: 0.8786, Train: 2.40%, Valid: 2.12%, Test: 0.87%\n",
            "---\n",
            "Hits@20\n",
            "Epoch: 30, Loss: 0.8771, Train: 2.87%, Valid: 2.56%, Test: 1.00%\n",
            "---\n",
            "Hits@20\n",
            "Epoch: 31, Loss: 0.8780, Train: 2.81%, Valid: 2.49%, Test: 0.92%\n",
            "---\n",
            "Hits@20\n",
            "Epoch: 32, Loss: 0.8767, Train: 2.87%, Valid: 2.55%, Test: 0.98%\n",
            "---\n",
            "Hits@20\n",
            "Epoch: 33, Loss: 0.8759, Train: 2.79%, Valid: 2.45%, Test: 1.13%\n",
            "---\n",
            "Hits@20\n",
            "Epoch: 34, Loss: 0.8762, Train: 2.91%, Valid: 2.59%, Test: 1.15%\n",
            "---\n",
            "Hits@20\n",
            "Epoch: 35, Loss: 0.8755, Train: 2.89%, Valid: 2.54%, Test: 1.14%\n",
            "---\n",
            "Hits@20\n",
            "Epoch: 36, Loss: 0.8755, Train: 2.71%, Valid: 2.41%, Test: 1.02%\n",
            "---\n",
            "Hits@20\n",
            "Epoch: 37, Loss: 0.8755, Train: 3.04%, Valid: 2.69%, Test: 1.20%\n",
            "---\n",
            "Hits@20\n",
            "Epoch: 38, Loss: 0.8750, Train: 2.89%, Valid: 2.59%, Test: 1.35%\n",
            "---\n",
            "Hits@20\n",
            "Epoch: 39, Loss: 0.8741, Train: 2.65%, Valid: 2.35%, Test: 1.01%\n",
            "---\n",
            "Hits@20\n",
            "Epoch: 40, Loss: 0.8731, Train: 2.59%, Valid: 2.31%, Test: 1.06%\n",
            "---\n",
            "Hits@20\n",
            "Epoch: 41, Loss: 0.8739, Train: 2.72%, Valid: 2.45%, Test: 1.00%\n",
            "---\n",
            "Hits@20\n",
            "Epoch: 42, Loss: 0.8730, Train: 2.56%, Valid: 2.28%, Test: 1.13%\n",
            "---\n",
            "Hits@20\n",
            "Epoch: 43, Loss: 0.8728, Train: 2.84%, Valid: 2.54%, Test: 1.06%\n",
            "---\n",
            "Hits@20\n",
            "Epoch: 44, Loss: 0.8729, Train: 2.87%, Valid: 2.53%, Test: 1.18%\n",
            "---\n",
            "Hits@20\n",
            "Epoch: 45, Loss: 0.8727, Train: 2.95%, Valid: 2.64%, Test: 1.07%\n",
            "---\n",
            "Hits@20\n",
            "Epoch: 46, Loss: 0.8715, Train: 2.58%, Valid: 2.28%, Test: 1.23%\n",
            "---\n",
            "Hits@20\n",
            "Epoch: 47, Loss: 0.8714, Train: 2.85%, Valid: 2.54%, Test: 0.97%\n",
            "---\n",
            "Hits@20\n",
            "Epoch: 48, Loss: 0.8707, Train: 2.81%, Valid: 2.50%, Test: 1.11%\n",
            "---\n",
            "Hits@20\n",
            "Epoch: 49, Loss: 0.8719, Train: 2.78%, Valid: 2.45%, Test: 1.15%\n",
            "---\n",
            "Hits@20\n",
            "Epoch: 50, Loss: 0.8709, Train: 3.11%, Valid: 2.79%, Test: 1.22%\n",
            "---\n",
            "Hits@20\n",
            "Epoch: 51, Loss: 0.8705, Train: 2.96%, Valid: 2.66%, Test: 1.09%\n",
            "---\n",
            "Hits@20\n",
            "Epoch: 52, Loss: 0.8711, Train: 3.25%, Valid: 2.91%, Test: 1.16%\n",
            "---\n",
            "Hits@20\n",
            "Epoch: 53, Loss: 0.8702, Train: 2.69%, Valid: 2.40%, Test: 0.99%\n",
            "---\n",
            "Hits@20\n",
            "Epoch: 54, Loss: 0.8696, Train: 2.74%, Valid: 2.45%, Test: 0.98%\n",
            "---\n",
            "Hits@20\n",
            "Epoch: 55, Loss: 0.8697, Train: 2.94%, Valid: 2.62%, Test: 1.23%\n",
            "---\n",
            "Hits@20\n",
            "Epoch: 56, Loss: 0.8695, Train: 2.81%, Valid: 2.48%, Test: 1.12%\n",
            "---\n",
            "Hits@20\n",
            "Epoch: 57, Loss: 0.8698, Train: 2.81%, Valid: 2.48%, Test: 1.17%\n",
            "---\n",
            "Hits@20\n",
            "Epoch: 58, Loss: 0.8686, Train: 2.95%, Valid: 2.66%, Test: 1.27%\n",
            "---\n",
            "Hits@20\n",
            "Epoch: 59, Loss: 0.8686, Train: 3.18%, Valid: 2.89%, Test: 1.20%\n",
            "---\n",
            "Hits@20\n",
            "Epoch: 60, Loss: 0.8691, Train: 2.65%, Valid: 2.39%, Test: 1.11%\n",
            "---\n",
            "Hits@20\n",
            "Epoch: 61, Loss: 0.8685, Train: 2.48%, Valid: 2.19%, Test: 1.09%\n",
            "---\n",
            "Hits@20\n",
            "Epoch: 62, Loss: 0.8672, Train: 2.54%, Valid: 2.25%, Test: 1.04%\n",
            "---\n",
            "Hits@20\n",
            "Epoch: 63, Loss: 0.8685, Train: 3.08%, Valid: 2.77%, Test: 1.22%\n",
            "---\n",
            "Hits@20\n",
            "Epoch: 64, Loss: 0.8681, Train: 2.93%, Valid: 2.66%, Test: 1.19%\n",
            "---\n",
            "Hits@20\n",
            "Epoch: 65, Loss: 0.8676, Train: 2.79%, Valid: 2.51%, Test: 1.25%\n",
            "---\n",
            "Hits@20\n",
            "Epoch: 66, Loss: 0.8688, Train: 2.80%, Valid: 2.52%, Test: 1.12%\n",
            "---\n",
            "Hits@20\n",
            "Epoch: 67, Loss: 0.8684, Train: 2.69%, Valid: 2.37%, Test: 1.21%\n",
            "---\n",
            "Hits@20\n",
            "Epoch: 68, Loss: 0.8672, Train: 2.67%, Valid: 2.40%, Test: 1.18%\n",
            "---\n",
            "Hits@20\n",
            "Epoch: 69, Loss: 0.8669, Train: 3.09%, Valid: 2.82%, Test: 1.13%\n",
            "---\n",
            "Hits@20\n",
            "Epoch: 70, Loss: 0.8666, Train: 2.90%, Valid: 2.62%, Test: 1.22%\n",
            "---\n",
            "Hits@20\n",
            "Epoch: 71, Loss: 0.8665, Train: 2.90%, Valid: 2.64%, Test: 1.07%\n",
            "---\n",
            "Hits@20\n",
            "Epoch: 72, Loss: 0.8671, Train: 2.69%, Valid: 2.40%, Test: 1.21%\n",
            "---\n",
            "Hits@20\n",
            "Epoch: 73, Loss: 0.8672, Train: 2.70%, Valid: 2.41%, Test: 1.07%\n",
            "---\n",
            "Hits@20\n",
            "Epoch: 74, Loss: 0.8675, Train: 2.81%, Valid: 2.52%, Test: 1.10%\n",
            "---\n",
            "Hits@20\n",
            "Epoch: 75, Loss: 0.8671, Train: 2.68%, Valid: 2.37%, Test: 0.95%\n",
            "---\n",
            "Hits@20\n",
            "Epoch: 76, Loss: 0.8663, Train: 2.76%, Valid: 2.45%, Test: 1.13%\n",
            "---\n",
            "Hits@20\n",
            "Epoch: 77, Loss: 0.8665, Train: 2.46%, Valid: 2.17%, Test: 1.31%\n",
            "---\n",
            "Hits@20\n",
            "Epoch: 78, Loss: 0.8655, Train: 2.60%, Valid: 2.30%, Test: 1.03%\n",
            "---\n",
            "Hits@20\n",
            "Epoch: 79, Loss: 0.8654, Train: 2.57%, Valid: 2.28%, Test: 1.24%\n",
            "---\n",
            "Hits@20\n",
            "Epoch: 80, Loss: 0.8664, Train: 2.91%, Valid: 2.61%, Test: 1.11%\n",
            "---\n",
            "Hits@20\n",
            "Epoch: 81, Loss: 0.8663, Train: 2.76%, Valid: 2.46%, Test: 1.09%\n",
            "---\n",
            "Hits@20\n",
            "Epoch: 82, Loss: 0.8652, Train: 2.47%, Valid: 2.18%, Test: 1.25%\n",
            "---\n",
            "Hits@20\n",
            "Epoch: 83, Loss: 0.8656, Train: 2.61%, Valid: 2.30%, Test: 1.07%\n",
            "---\n",
            "Hits@20\n",
            "Epoch: 84, Loss: 0.8663, Train: 3.05%, Valid: 2.74%, Test: 1.11%\n",
            "---\n",
            "Hits@20\n",
            "Epoch: 85, Loss: 0.8659, Train: 2.89%, Valid: 2.59%, Test: 1.27%\n",
            "---\n",
            "Hits@20\n",
            "Epoch: 86, Loss: 0.8661, Train: 2.59%, Valid: 2.24%, Test: 1.11%\n",
            "---\n",
            "Hits@20\n",
            "Epoch: 87, Loss: 0.8663, Train: 2.62%, Valid: 2.33%, Test: 1.17%\n",
            "---\n",
            "Hits@20\n",
            "Epoch: 88, Loss: 0.8657, Train: 2.99%, Valid: 2.69%, Test: 1.12%\n",
            "---\n",
            "Hits@20\n",
            "Epoch: 89, Loss: 0.8661, Train: 2.50%, Valid: 2.21%, Test: 1.08%\n",
            "---\n",
            "Hits@20\n",
            "Epoch: 90, Loss: 0.8653, Train: 2.38%, Valid: 2.10%, Test: 1.35%\n",
            "---\n",
            "Hits@20\n",
            "Epoch: 91, Loss: 0.8659, Train: 2.75%, Valid: 2.47%, Test: 1.04%\n",
            "---\n",
            "Hits@20\n",
            "Epoch: 92, Loss: 0.8654, Train: 2.61%, Valid: 2.30%, Test: 0.92%\n",
            "---\n",
            "Hits@20\n",
            "Epoch: 93, Loss: 0.8658, Train: 2.66%, Valid: 2.36%, Test: 1.08%\n",
            "---\n",
            "Hits@20\n",
            "Epoch: 94, Loss: 0.8646, Train: 2.72%, Valid: 2.45%, Test: 1.30%\n",
            "---\n",
            "Hits@20\n",
            "Epoch: 95, Loss: 0.8651, Train: 2.44%, Valid: 2.14%, Test: 1.08%\n",
            "---\n",
            "Hits@20\n",
            "Epoch: 96, Loss: 0.8650, Train: 2.58%, Valid: 2.30%, Test: 1.22%\n",
            "---\n",
            "Hits@20\n",
            "Epoch: 97, Loss: 0.8643, Train: 2.53%, Valid: 2.25%, Test: 1.25%\n",
            "---\n",
            "Hits@20\n",
            "Epoch: 98, Loss: 0.8645, Train: 2.65%, Valid: 2.31%, Test: 1.08%\n",
            "---\n",
            "Hits@20\n",
            "Epoch: 99, Loss: 0.8653, Train: 2.52%, Valid: 2.24%, Test: 1.16%\n",
            "---\n",
            "Hits@20\n",
            "Epoch: 100, Loss: 0.8647, Train: 2.63%, Valid: 2.31%, Test: 1.08%\n",
            "---\n",
            "Hits@20\n",
            "Highest Train: 3.25\n",
            "Highest Valid: 2.91\n",
            "Final Train: 3.25\n",
            "Final Test: 1.16\n"
          ]
        },
        {
          "output_type": "display_data",
          "data": {
            "image/png": "[encoded data removed]",
            "text/plain": [
              "<Figure size 432x288 with 1 Axes>"
            ]
          },
          "metadata": {
            "needs_background": "light"
          }
        }
      ]
    },
    {
      "cell_type": "code",
      "source": [
        "plt.plot(epoch_ls_M, train_losses_M, '-o')\n",
        "plt.xlabel('epoch')\n",
        "plt.ylabel('losses')\n",
        "plt.title('Train Losses')\n",
        " \n",
        "plt.show()"
      ],
      "metadata": {
        "colab": {
          "base_uri": "https://localhost:8080/",
          "height": 295
        },
        "id": "c8n68YWyxWME",
        "outputId": "6bab113f-00b2-465a-bf5d-969f13a6206c"
      },
      "execution_count": null,
      "outputs": [
        {
          "output_type": "display_data",
          "data": {
            "image/png": "[encoded data removed]",
            "text/plain": [
              "<Figure size 432x288 with 1 Axes>"
            ]
          },
          "metadata": {
            "needs_background": "light"
          }
        }
      ]
    },
    {
      "cell_type": "code",
      "source": [
        "plt.plot(epoch_ls_M, train_hit_20_M, '-o')\n",
        "plt.plot(epoch_ls_M, val_hit_20_M, '-o')\n",
        "plt.xlabel('epoch')\n",
        "plt.ylabel('Hits@20')\n",
        "plt.legend(['Train','Valid'])\n",
        "plt.title('Train vs Valid Hits Scores')\n",
        "\n",
        "plt.show()"
      ],
      "metadata": {
        "colab": {
          "base_uri": "https://localhost:8080/",
          "height": 295
        },
        "id": "lylIQTKqFGyw",
        "outputId": "79b9fecd-4d5e-43ea-f9c4-6d3fd342898d"
      },
      "execution_count": null,
      "outputs": [
        {
          "output_type": "display_data",
          "data": {
            "image/png": "[encoded data removed]",
            "text/plain": [
              "<Figure size 432x288 with 1 Axes>"
            ]
          },
          "metadata": {
            "needs_background": "light"
          }
        }
      ]
    },
    {
      "cell_type": "code",
      "source": [
        ""
      ],
      "metadata": {
        "id": "Yo6goRKcFV5I"
      },
      "execution_count": null,
      "outputs": []
    }
  ]
}